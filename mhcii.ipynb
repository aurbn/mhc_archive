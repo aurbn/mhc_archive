{
 "cells": [
  {
   "cell_type": "code",
   "execution_count": 1,
   "metadata": {},
   "outputs": [],
   "source": [
    "from subprocess import Popen, call, check_call, STDOUT, PIPE\n",
    "import os\n",
    "from tempfile import NamedTemporaryFile\n",
    "import pandas as pd\n",
    "from numpy import mean\n",
    "from tqdm import tqdm\n",
    "from collections import defaultdict\n",
    "from multiprocessing import Pool, Process\n",
    "from time import sleep\n",
    "import pandas as pd"
   ]
  },
  {
   "cell_type": "code",
   "execution_count": 2,
   "metadata": {
    "collapsed": true
   },
   "outputs": [],
   "source": [
    "os.chdir(\"/home/urban/mhc/\")"
   ]
  },
  {
   "cell_type": "code",
   "execution_count": 3,
   "metadata": {},
   "outputs": [],
   "source": [
    "MHCII = \"/home/urban/mhc2/mhc_ii/mhc_II_binding.py\"\n",
    "methods = [\"nn_align\", \"comblib\", \"smm_align\", \"netmhcpan\"]\n",
    "#methods = [\"sturniolo\"]"
   ]
  },
  {
   "cell_type": "code",
   "execution_count": 4,
   "metadata": {},
   "outputs": [],
   "source": [
    "def run_mhcii(sequence, method, allele, resmin=True):\n",
    "    tf = NamedTemporaryFile(suffix=\".fa\", delete=False)\n",
    "    tf.writelines([\">1\\n\", sequence])\n",
    "    tf.close()\n",
    "    proc = Popen([MHCII, method, allele, tf.name], stdin=PIPE, stdout=PIPE, stderr=PIPE)\n",
    "    proc.wait()\n",
    "    os.unlink(tf.name)\n",
    "    result = proc.communicate()[0]\n",
    "    try:\n",
    "        target_index = result.split('\\n')[0].split('\\t').index(\"ic50\")\n",
    "    except ValueError:\n",
    "        return \"NA\"\n",
    "    targets = [float(l.split('\\t')[target_index]) for l in result.split('\\n')[1:] if l]\n",
    "    if targets:\n",
    "        return min(targets) if resmin else targets\n",
    "    else:\n",
    "        return \"NA\""
   ]
  },
  {
   "cell_type": "code",
   "execution_count": 5,
   "metadata": {},
   "outputs": [],
   "source": [
    "def run_mhcii_meth(sequence, methods, allele,  aggregate = mean):\n",
    "    return aggregate([run_mhcii(sequence, meth, allele) for meth in methods])"
   ]
  },
  {
   "cell_type": "code",
   "execution_count": 6,
   "metadata": {},
   "outputs": [],
   "source": [
    "def run_mhcii_allen(sequence, method, alleles):\n",
    "    return {sequence:[(p, run_mhcii(sequence, method, p))  for p in alleles]}\n"
   ]
  },
  {
   "cell_type": "code",
   "execution_count": 7,
   "metadata": {
    "collapsed": true
   },
   "outputs": [],
   "source": [
    "def run_mhcii_allen_(par):\n",
    "    sequence = par['sequence']\n",
    "    method = par['method']\n",
    "    alleles = par['alleles']\n",
    "    return (sequence, [(p, run_mhcii(sequence, method, p) ) for p in alleles])\n"
   ]
  },
  {
   "cell_type": "code",
   "execution_count": 8,
   "metadata": {
    "collapsed": true
   },
   "outputs": [],
   "source": [
    "def run_mhcii_peptides(peptides, alleles, method, processes=24):\n",
    "    result = []\n",
    "    pool = Pool(processes=processes)\n",
    "    args = [{'sequence':s, 'method':method, 'alleles':alleles} for s in peptides]\n",
    "   \n",
    "    for res in tqdm(pool.imap_unordered(run_mhcii_allen_, args), total=len(peptides)):\n",
    "        result.append(res)\n",
    "    pool.close()\n",
    "    pool.join()\n",
    "    return result"
   ]
  },
  {
   "cell_type": "code",
   "execution_count": 9,
   "metadata": {},
   "outputs": [],
   "source": [
    "def write_res_table(results, filename):\n",
    "    with open(filename, \"w\") as f:\n",
    "        f.write(\"peptide\\tmodel\\tic50\\n\")\n",
    "        for pep, allist in results:\n",
    "            for al, ic50 in allist:\n",
    "                f.write(\"{}\\t{}\\t{}\\n\".format(pep, al, ic50))"
   ]
  },
  {
   "cell_type": "code",
   "execution_count": null,
   "metadata": {},
   "outputs": [],
   "source": [
    "#allelesii = [(l.strip() ) for l in open(\"hla_ref_set.class_ii.txt\").readlines()]\n",
    "#randHS = [l.strip() for l in open(\"1740_HS_random_peptides.txt\").readlines()]\n",
    "#randMB = [l.strip() for l in open(\"1740_MB_random_peptides.txt\").readlines()]\n",
    "#randNC = [l.strip() for l in open(\"1740_NCBI_random_peptides.txt\").readlines()]"
   ]
  },
  {
   "cell_type": "code",
   "execution_count": null,
   "metadata": {},
   "outputs": [],
   "source": [
    "allelesii = [(l.strip() ) for l in open(\"hla_ref_set.class_ii.txt\").readlines()]\n",
    "randHS = [l.strip() for l in open(\"4368_HS_random_peptides.txt\").readlines()]\n",
    "randMB = [l.strip() for l in open(\"4368_MB_random_peptides.txt\").readlines()]\n",
    "randNC = [l.strip() for l in open(\"4368_NC_random_peptides.txt\").readlines()]"
   ]
  },
  {
   "cell_type": "code",
   "execution_count": null,
   "metadata": {
    "collapsed": true
   },
   "outputs": [],
   "source": [
    "allelesii = [(l.strip() ) for l in open(\"hla_ref_set.class_ii.txt\").readlines()]\n",
    "bacpeps = [l.strip() for l in open(\"bacpep2gr.txt\").readlines()]"
   ]
  },
  {
   "cell_type": "code",
   "execution_count": 10,
   "metadata": {
    "collapsed": true
   },
   "outputs": [],
   "source": [
    "allelesii = [(l.strip() ) for l in open(\"hla_ref_set.class_ii.txt\").readlines()]\n",
    "humpeps = [l.strip() for l in open(\"humpeps2gr.txt\").readlines()]"
   ]
  },
  {
   "cell_type": "code",
   "execution_count": null,
   "metadata": {},
   "outputs": [],
   "source": [
    "ind = pd.read_table(\"hIndividuals.tsv\")\n",
    "\n",
    "ind.set_index(\"sequence\", inplace=True)\n",
    "\n",
    "individuals = {}\n",
    "for c in ind.columns:\n",
    "    individuals[c] = list(ind[ind.loc[:,c]>0].index.values)\n",
    "    with open(c+\"_peps.txt\", \"w\") as f:\n",
    "        for p in individuals[c]:\n",
    "            f.write(p+'\\n')"
   ]
  },
  {
   "cell_type": "code",
   "execution_count": null,
   "metadata": {},
   "outputs": [],
   "source": [
    "os.chdir(\"/home/urban/mhc/\")\n",
    "for m in methods:\n",
    "    outdir = os.path.join(\"h2\", m)\n",
    "    os.mkdir(outdir)\n",
    "    for name, peps in zip([\"randHS\", \"randMB\", \"randNC\"],[randHS, randMB, randNC]):\n",
    "        print \"Running {}:{}\".format(m,name)\n",
    "        r = run_mhcii_peptides(peps, allelesii, m)\n",
    "        write_res_table(r, os.path.join(outdir, name+\".tsv\"))\n",
    "    \n",
    "    for name, peps in individuals.items():\n",
    "        print \"Running {}:{}\".format(m,name)\n",
    "        r = run_mhcii_peptides(peps, allelesii, m)\n",
    "        write_res_table(r, os.path.join(outdir, name+\".tsv\"))"
   ]
  },
  {
   "cell_type": "code",
   "execution_count": null,
   "metadata": {},
   "outputs": [],
   "source": [
    "for m in methods:\n",
    "    r = run_mhcii_peptides(bacpeps, allelesii, m)\n",
    "    write_res_table(r, os.path.join(\".\", \"bacpeps2gr_ii_\"+m+\".tsv\"))\n"
   ]
  },
  {
   "cell_type": "code",
   "execution_count": 12,
   "metadata": {},
   "outputs": [
    {
     "name": "stderr",
     "output_type": "stream",
     "text": [
      "100%|██████████| 739/739 [01:50<00:00,  2.47it/s]\n",
      "100%|██████████| 739/739 [00:39<00:00, 18.90it/s]\n",
      "100%|██████████| 739/739 [01:11<00:00, 10.29it/s]\n",
      "100%|██████████| 739/739 [00:35<00:00, 20.59it/s]\n"
     ]
    }
   ],
   "source": [
    "for m in methods:\n",
    "    r = run_mhcii_peptides(humpeps, allelesii, m)\n",
    "    write_res_table(r, os.path.join(\".\", \"humpeps2gr_ii_\"+m+\".tsv\"))\n"
   ]
  },
  {
   "cell_type": "code",
   "execution_count": null,
   "metadata": {
    "collapsed": true
   },
   "outputs": [],
   "source": []
  }
 ],
 "metadata": {
  "kernelspec": {
   "display_name": "Python 2",
   "language": "python",
   "name": "python2"
  },
  "language_info": {
   "codemirror_mode": {
    "name": "ipython",
    "version": 3
   },
   "file_extension": ".py",
   "mimetype": "text/x-python",
   "name": "python",
   "nbconvert_exporter": "python",
   "pygments_lexer": "ipython3",
   "version": "3.4.3"
  },
  "toc": {
   "nav_menu": {},
   "number_sections": true,
   "sideBar": true,
   "skip_h1_title": false,
   "toc_cell": false,
   "toc_position": {},
   "toc_section_display": "block",
   "toc_window_display": false
  },
  "varInspector": {
   "cols": {
    "lenName": 16,
    "lenType": 16,
    "lenVar": 40
   },
   "kernels_config": {
    "python": {
     "delete_cmd_postfix": "",
     "delete_cmd_prefix": "del ",
     "library": "var_list.py",
     "varRefreshCmd": "print(var_dic_list())"
    },
    "r": {
     "delete_cmd_postfix": ") ",
     "delete_cmd_prefix": "rm(",
     "library": "var_list.r",
     "varRefreshCmd": "cat(var_dic_list()) "
    }
   },
   "types_to_exclude": [
    "module",
    "function",
    "builtin_function_or_method",
    "instance",
    "_Feature"
   ],
   "window_display": false
  }
 },
 "nbformat": 4,
 "nbformat_minor": 1
}
