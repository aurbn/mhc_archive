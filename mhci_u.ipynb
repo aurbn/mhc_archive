{
 "cells": [
  {
   "cell_type": "code",
   "execution_count": 1,
   "metadata": {},
   "outputs": [],
   "source": [
    "from subprocess import Popen, call, check_call, STDOUT, PIPE\n",
    "import os\n",
    "from tempfile import NamedTemporaryFile\n",
    "import pandas as pd\n",
    "from numpy import mean\n",
    "from tqdm import tqdm\n",
    "from collections import defaultdict\n",
    "from multiprocessing import Pool, Process\n",
    "from time import sleep\n",
    "import pandas as pd"
   ]
  },
  {
   "cell_type": "code",
   "execution_count": 2,
   "metadata": {
    "collapsed": true
   },
   "outputs": [],
   "source": [
    "os.chdir(\"/home/urban/mhc/\")"
   ]
  },
  {
   "cell_type": "code",
   "execution_count": 3,
   "metadata": {},
   "outputs": [],
   "source": [
    "MHCI = \"/home/urban/mhc1/mhc_i/src/predict_binding.py\"\n",
    "#methods = [\"ann\", \"pickpocket\", \"smm\", \"netmhcpan\"]\n",
    "methods = [\"pickpocket\", \"smm\", \"netmhcpan\"]\n",
    "#methods = [\"netmhccons\"]"
   ]
  },
  {
   "cell_type": "code",
   "execution_count": 4,
   "metadata": {},
   "outputs": [],
   "source": [
    "def run_mhci(sequence, method, allele, length, resmin=True):\n",
    "    tf = NamedTemporaryFile(suffix=\".fa\", delete=False)\n",
    "    tf.writelines([\">1\\n\", sequence])\n",
    "    tf.close()\n",
    "    proc = Popen([MHCI, method, allele, str(length), tf.name], stdin=PIPE, stdout=PIPE, stderr=PIPE)\n",
    "    proc.wait()\n",
    "    os.unlink(tf.name)\n",
    "    result = proc.communicate()[0]\n",
    "    try:\n",
    "        target_index = result.split('\\n')[0].split('\\t').index(\"ic50\")\n",
    "    except ValueError:\n",
    "        return \"NA\"\n",
    "    targets = [float(l.split('\\t')[target_index]) for l in result.split('\\n')[1:] if l]\n",
    "    if targets:\n",
    "        return min(targets) if resmin else targets\n",
    "    else:\n",
    "        return \"NA\""
   ]
  },
  {
   "cell_type": "code",
   "execution_count": 5,
   "metadata": {},
   "outputs": [],
   "source": [
    "def run_mhci_meth(sequence, methods, allele, length, aggregate = mean):\n",
    "    return aggregate([run_mhci(sequence, meth, allele, length) for meth in methods])"
   ]
  },
  {
   "cell_type": "code",
   "execution_count": 6,
   "metadata": {},
   "outputs": [],
   "source": [
    "def run_mhci_allen(sequence, method, pairs):\n",
    "    return {sequence:[(p[0]+\"/\"+p[1], run_mhci(sequence, method, p[0], p[1]) ) for p in pairs]}\n"
   ]
  },
  {
   "cell_type": "code",
   "execution_count": 7,
   "metadata": {
    "collapsed": true
   },
   "outputs": [],
   "source": [
    "def run_mhci_allen_(par):\n",
    "    sequence = par['sequence']\n",
    "    method = par['method']\n",
    "    pairs = par['pairs']\n",
    "    return (sequence, [(p[0]+\"/\"+p[1], run_mhci(sequence, method, p[0], p[1]) ) for p in pairs])\n"
   ]
  },
  {
   "cell_type": "code",
   "execution_count": 8,
   "metadata": {
    "collapsed": true
   },
   "outputs": [],
   "source": [
    "def run_mhci_peptides(peptides, alleles, method, processes=22):\n",
    "    result = []\n",
    "    pool = Pool(processes=processes)\n",
    "    args = [{'sequence':s, 'method':method, 'pairs':alleles} for s in peptides]\n",
    "    for res in tqdm(pool.imap_unordered(run_mhci_allen_, args), total=len(peptides)):\n",
    "        result.append(res)\n",
    "    pool.close()\n",
    "    pool.join()\n",
    "    return result"
   ]
  },
  {
   "cell_type": "code",
   "execution_count": 9,
   "metadata": {},
   "outputs": [],
   "source": [
    "def write_res_table(results, filename):\n",
    "    with open(filename, \"w\") as f:\n",
    "        f.write(\"peptide\\tmodel\\tic50\\n\")\n",
    "        for pep, allist in results:\n",
    "            for al, ic50 in allist:\n",
    "                f.write(\"{}\\t{}\\t{}\\n\".format(pep, al, ic50))"
   ]
  },
  {
   "cell_type": "code",
   "execution_count": 10,
   "metadata": {
    "collapsed": true
   },
   "outputs": [],
   "source": [
    "allelesi = [(l.split(',')[0].strip(), l.split(',')[1].strip() ) for l in open(\"hla_ref_set.class_i.txt\").readlines()]\n",
    "randHS = [l.strip() for l in open(\"4368_HS_random_peptides.txt\").readlines()]\n",
    "randMB = [l.strip() for l in open(\"4368_MB_random_peptides.txt\").readlines()]\n",
    "randNC = [l.strip() for l in open(\"4368_NC_random_peptides.txt\").readlines()]"
   ]
  },
  {
   "cell_type": "code",
   "execution_count": 11,
   "metadata": {},
   "outputs": [],
   "source": [
    "ind = pd.read_table(\"hIndividuals.tsv\")\n",
    "\n",
    "ind.set_index(\"sequence\", inplace=True)\n",
    "\n",
    "individuals = {}\n",
    "for c in ind.columns:\n",
    "    individuals[c] = list(ind[ind.loc[:,c]>0].index.values)\n",
    "    with open(c+\"_peps.txt\", \"w\") as f:\n",
    "        for p in individuals[c]:\n",
    "            f.write(p+'\\n')"
   ]
  },
  {
   "cell_type": "code",
   "execution_count": null,
   "metadata": {},
   "outputs": [
    {
     "name": "stdout",
     "output_type": "stream",
     "text": [
      "Running pickpocket:randHS\n"
     ]
    },
    {
     "name": "stderr",
     "output_type": "stream",
     "text": [
      "100%|██████████| 4368/4368 [13:59:06<00:00,  5.63s/it]    /4368 [03:27<251:35:35, 207.40s/it]  1%|          | 22/4368 [03:50<12:37:50, 10.46s/it]"
     ]
    },
    {
     "name": "stdout",
     "output_type": "stream",
     "text": [
      "Running pickpocket:randMB\n"
     ]
    },
    {
     "name": "stderr",
     "output_type": "stream",
     "text": [
      "\n",
      " 44%|████▍     | 1915/4368 [6:03:19<30:14:08, 44.37s/it]"
     ]
    }
   ],
   "source": [
    "os.chdir(\"/home/urban/mhc/\")\n",
    "for m in methods:\n",
    "    outdir = os.path.join(\"h1\", m)\n",
    "    os.mkdir(outdir)\n",
    "    for name, peps in zip([\"randHS\", \"randMB\", \"randNC\"],[randHS, randMB, randNC]):\n",
    "        print \"Running {}:{}\".format(m,name)\n",
    "        r = run_mhci_peptides(peps, allelesi, m)\n",
    "        write_res_table(r, os.path.join(outdir, name+\".tsv\"))\n",
    "    \n",
    "    for name, peps in individuals.items():\n",
    "        print \"Running {}:{}\".format(m,name)\n",
    "        r = run_mhci_peptides(peps, allelesi, m)\n",
    "        write_res_table(r, os.path.join(outdir, name+\".tsv\"))\n",
    "    "
   ]
  },
  {
   "cell_type": "code",
   "execution_count": null,
   "metadata": {
    "collapsed": true
   },
   "outputs": [],
   "source": []
  },
  {
   "cell_type": "code",
   "execution_count": null,
   "metadata": {
    "collapsed": true
   },
   "outputs": [],
   "source": []
  }
 ],
 "metadata": {
  "kernelspec": {
   "display_name": "Python 2",
   "language": "python",
   "name": "python2"
  },
  "language_info": {
   "codemirror_mode": {
    "name": "ipython",
    "version": 3
   },
   "file_extension": ".py",
   "mimetype": "text/x-python",
   "name": "python",
   "nbconvert_exporter": "python",
   "pygments_lexer": "ipython3",
   "version": "3.4.3"
  },
  "toc": {
   "nav_menu": {},
   "number_sections": true,
   "sideBar": true,
   "skip_h1_title": false,
   "toc_cell": false,
   "toc_position": {},
   "toc_section_display": "block",
   "toc_window_display": false
  },
  "varInspector": {
   "cols": {
    "lenName": 16,
    "lenType": 16,
    "lenVar": 40
   },
   "kernels_config": {
    "python": {
     "delete_cmd_postfix": "",
     "delete_cmd_prefix": "del ",
     "library": "var_list.py",
     "varRefreshCmd": "print(var_dic_list())"
    },
    "r": {
     "delete_cmd_postfix": ") ",
     "delete_cmd_prefix": "rm(",
     "library": "var_list.r",
     "varRefreshCmd": "cat(var_dic_list()) "
    }
   },
   "types_to_exclude": [
    "module",
    "function",
    "builtin_function_or_method",
    "instance",
    "_Feature"
   ],
   "window_display": false
  }
 },
 "nbformat": 4,
 "nbformat_minor": 1
}
